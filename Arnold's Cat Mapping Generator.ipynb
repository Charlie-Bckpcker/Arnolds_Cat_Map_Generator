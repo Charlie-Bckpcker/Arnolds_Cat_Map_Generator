{
 "cells": [
  {
   "cell_type": "markdown",
   "metadata": {},
   "source": [
    "### Arnold's Cat Map \n",
    "\n",
    "In mathematics, Arnold's Cat Map is a particular **chaotic map** from the torus into itself, named after Vladimir  Russian mathematician Vladimir I. Arnold, who discovered it using an image of a **cat** in the 1960s.\n",
    "\n",
    "\"It is a simple and elegant demonstration and illustration of some of the principles of chaos – namely, underlying order to an apparently random evolution of a system. An image is hit with a transformation that apparently randomizes the original organization of its pixels. However, if iterated enough times, as though by magic, the original image reappears.\" "
   ]
  },
  {
   "cell_type": "markdown",
   "metadata": {},
   "source": [
    "Arnold's Cat Map $\\ \\Gamma: \\mathbb{T}^{2} \\to \\mathbb{T}^{2},\\\\ s.t.\\  \\Gamma\\begin{pmatrix}\\begin{bmatrix}\n",
    "x\\\\\n",
    "y\n",
    "\\end{bmatrix}\\end{pmatrix} \n",
    "= \\begin{bmatrix}\n",
    "2 & 1 \\\\\n",
    "1 & 1\n",
    "\\end{bmatrix}\n",
    "\\begin{bmatrix}\n",
    "x\\\\\n",
    "y\n",
    "\\end{bmatrix}\n",
    "mod\\ 1\n",
    "$"
   ]
  },
  {
   "cell_type": "code",
   "execution_count": null,
   "metadata": {},
   "outputs": [],
   "source": [
    "# Package needed\n",
    "import numpy as np\n",
    "from PIL import Image\n",
    "import imageio\n",
    "import os"
   ]
  },
  {
   "cell_type": "code",
   "execution_count": null,
   "metadata": {},
   "outputs": [],
   "source": [
    "# Read original image\n",
    "image = Image.open('cat.jpg')"
   ]
  },
  {
   "cell_type": "code",
   "execution_count": null,
   "metadata": {},
   "outputs": [],
   "source": [
    "# Check image size\n",
    "# Because the image size need to be represented as N x N matrix, so we needed to reshape the image to N x N\n",
    "np.array(image).shape"
   ]
  },
  {
   "cell_type": "code",
   "execution_count": null,
   "metadata": {},
   "outputs": [],
   "source": [
    "# If your original pic is already square size, you could skip the below procedure\n",
    "def make_square(image, min_size=256, fill_color=(0, 0, 0, 0)):\n",
    "    x, y = image.size\n",
    "    size = max(min_size, x, y)\n",
    "    new_image = Image.new('RGBA', (size, size), fill_color)\n",
    "    new_image.paste(image, (int((size - x) / 2), int((size - y) / 2)))\n",
    "    return new_image"
   ]
  },
  {
   "cell_type": "code",
   "execution_count": null,
   "metadata": {},
   "outputs": [],
   "source": [
    "image = make_square(image)"
   ]
  },
  {
   "cell_type": "code",
   "execution_count": null,
   "metadata": {},
   "outputs": [],
   "source": [
    "# Check image size is squared\n",
    "np.array(image).shape "
   ]
  },
  {
   "cell_type": "code",
   "execution_count": null,
   "metadata": {},
   "outputs": [],
   "source": [
    "# Save image for mapping\n",
    "image = image.save('Catmap.png') "
   ]
  },
  {
   "cell_type": "code",
   "execution_count": null,
   "metadata": {},
   "outputs": [],
   "source": [
    "# Creating mapping images\n",
    "image = np.array(Image.open(\"Catmap.png\"))\n",
    "N = image.shape[0]\n",
    "x,y = np.meshgrid(range(N), range(N))\n",
    "\n",
    "x_m = (2*x+y) % N\n",
    "y_m = (x+y) % N\n",
    "\n",
    "for i in range(N+1):\n",
    "    output_images = Image.fromarray(image)\n",
    "    output_images.save(\"catmap_%03d.png\" % i)\n",
    "    image = image[x_m,y_m]"
   ]
  },
  {
   "cell_type": "code",
   "execution_count": null,
   "metadata": {},
   "outputs": [],
   "source": [
    "# Convert images to GIF\n",
    "images = []\n",
    "filenames = sorted((fn for fn in os.listdir('.') if fn.endswith('.png')))\n",
    "\n",
    "for filename in filenames:\n",
    "    images.append(imageio.imread(filename))\n",
    "imageio.mimsave('Catmap.gif', images, duration = 0.5)  # duration = interval time"
   ]
  },
  {
   "cell_type": "markdown",
   "metadata": {},
   "source": [
    "* References\n",
    " 1. [Gabriel Peterson, Cornell](https://www.math.uh.edu/~schiu/2017summerLinearAlgebraLab/Lecture_note/lecture7_catmap.pdf)\n",
    " 2. [Wikipedia](https://en.wikipedia.org/wiki/Arnold%27s_cat_map)"
   ]
  }
 ],
 "metadata": {
  "kernelspec": {
   "display_name": "Python 3",
   "language": "python",
   "name": "python3"
  },
  "language_info": {
   "codemirror_mode": {
    "name": "ipython",
    "version": 3
   },
   "file_extension": ".py",
   "mimetype": "text/x-python",
   "name": "python",
   "nbconvert_exporter": "python",
   "pygments_lexer": "ipython3",
   "version": "3.7.7"
  }
 },
 "nbformat": 4,
 "nbformat_minor": 4
}
